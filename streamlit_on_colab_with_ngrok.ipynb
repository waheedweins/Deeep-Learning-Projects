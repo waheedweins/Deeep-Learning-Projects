{
  "nbformat": 4,
  "nbformat_minor": 0,
  "metadata": {
    "colab": {
      "provenance": [],
      "authorship_tag": "ABX9TyOmBbJ94hLJw2QCiL8iAVIG",
      "include_colab_link": true
    },
    "kernelspec": {
      "name": "python3",
      "display_name": "Python 3"
    },
    "language_info": {
      "name": "python"
    }
  },
  "cells": [
    {
      "cell_type": "markdown",
      "metadata": {
        "id": "view-in-github",
        "colab_type": "text"
      },
      "source": [
        "<a href=\"https://colab.research.google.com/github/waheedweins/Deeep-Learning-Projects/blob/main/streamlit_on_colab_with_ngrok.ipynb\" target=\"_parent\"><img src=\"https://colab.research.google.com/assets/colab-badge.svg\" alt=\"Open In Colab\"/></a>"
      ]
    },
    {
      "cell_type": "code",
      "execution_count": null,
      "metadata": {
        "id": "CtE6Jar9vA-7"
      },
      "outputs": [],
      "source": [
        "!pip install pyngrok streamlit"
      ]
    },
    {
      "cell_type": "code",
      "source": [
        "from threading import Thread"
      ],
      "metadata": {
        "id": "ToFz_KntvT33"
      },
      "execution_count": 55,
      "outputs": []
    },
    {
      "cell_type": "code",
      "source": [],
      "metadata": {
        "id": "aUMyv6AS_dE9"
      },
      "execution_count": 55,
      "outputs": []
    },
    {
      "cell_type": "code",
      "source": [
        "from pyngrok import ngrok"
      ],
      "metadata": {
        "id": "luQ0m_LwyMi8"
      },
      "execution_count": 56,
      "outputs": []
    },
    {
      "cell_type": "code",
      "source": [
        "import streamlit as st\n",
        "import os"
      ],
      "metadata": {
        "id": "ZKuQqWN9vWBu"
      },
      "execution_count": 57,
      "outputs": []
    },
    {
      "cell_type": "code",
      "source": [
        "with open('app.py', 'w') as f:\n",
        "  f.write('''import streamlit as st\n",
        "st.title('hello')\n",
        "st.write('this is simple streamlit app')\n",
        "user_input = st.text_input(\"plese enter your name\", '')\n",
        "if st.button('submit'):\n",
        "  st.write(f\"hello{user_input} @\")''')"
      ],
      "metadata": {
        "id": "6bp-mynivotd"
      },
      "execution_count": 78,
      "outputs": []
    },
    {
      "cell_type": "code",
      "source": [
        "def run_streamlit():\n",
        "  os.system('streamlit run app.py --server.port 8501')\n"
      ],
      "metadata": {
        "id": "T1H2dxLwwqWR"
      },
      "execution_count": 79,
      "outputs": []
    },
    {
      "cell_type": "markdown",
      "source": [],
      "metadata": {
        "id": "Mc5fiyB_B9Al"
      }
    },
    {
      "cell_type": "code",
      "source": [
        "\n",
        "thread = Thread(target = run_streamlit)\n",
        "thread.start()"
      ],
      "metadata": {
        "id": "9jN8zBYcxfbr"
      },
      "execution_count": 80,
      "outputs": []
    },
    {
      "cell_type": "code",
      "source": [
        "ngrok.set_auth_token('2qLJZJPJ821lQf2mXEIZE9scv35_4mDo7ewwqy4DgPNBn8wHp')"
      ],
      "metadata": {
        "id": "YFPZl20CyfPy"
      },
      "execution_count": 81,
      "outputs": []
    },
    {
      "cell_type": "code",
      "source": [
        "\n",
        "public_url = ngrok.connect(addr = 8501, proto = 'http',bind_tls =True )"
      ],
      "metadata": {
        "id": "-ucTxqRuxum0"
      },
      "execution_count": 82,
      "outputs": []
    },
    {
      "cell_type": "code",
      "source": [
        "public_url"
      ],
      "metadata": {
        "colab": {
          "base_uri": "https://localhost:8080/"
        },
        "id": "Dndy1QkDyH0l",
        "outputId": "c9006b1f-f3cd-4634-de8e-8805d8dab422"
      },
      "execution_count": 83,
      "outputs": [
        {
          "output_type": "execute_result",
          "data": {
            "text/plain": [
              "<NgrokTunnel: \"https://a692-35-231-47-16.ngrok-free.app\" -> \"http://localhost:8501\">"
            ]
          },
          "metadata": {},
          "execution_count": 83
        }
      ]
    },
    {
      "cell_type": "code",
      "source": [],
      "metadata": {
        "id": "gSaFAc1dBd6Z"
      },
      "execution_count": 84,
      "outputs": []
    },
    {
      "cell_type": "code",
      "source": [],
      "metadata": {
        "id": "O8vnm1WWHy6L"
      },
      "execution_count": null,
      "outputs": []
    }
  ]
}