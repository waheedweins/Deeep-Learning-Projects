{
  "nbformat": 4,
  "nbformat_minor": 0,
  "metadata": {
    "colab": {
      "provenance": [],
      "authorship_tag": "ABX9TyNCzQeJql+Z+Plmf4ZpzNNv",
      "include_colab_link": true
    },
    "kernelspec": {
      "name": "python3",
      "display_name": "Python 3"
    },
    "language_info": {
      "name": "python"
    }
  },
  "cells": [
    {
      "cell_type": "markdown",
      "metadata": {
        "id": "view-in-github",
        "colab_type": "text"
      },
      "source": [
        "<a href=\"https://colab.research.google.com/github/waheedweins/Deeep-Learning-Projects/blob/main/langchain_simple_chatbot_gemini.ipynb\" target=\"_parent\"><img src=\"https://colab.research.google.com/assets/colab-badge.svg\" alt=\"Open In Colab\"/></a>"
      ]
    },
    {
      "cell_type": "code",
      "execution_count": 16,
      "metadata": {
        "id": "-NJV5IfNglbg"
      },
      "outputs": [],
      "source": [
        "!pip install langchain langchain_core langchain_google_genai dotenv -qU"
      ]
    },
    {
      "cell_type": "code",
      "source": [
        "!pip install --upgrade langchain_google_genai -qU"
      ],
      "metadata": {
        "id": "j-OTIJQ4w5yc"
      },
      "execution_count": 17,
      "outputs": []
    },
    {
      "cell_type": "code",
      "source": [
        "from langchain_google_genai import ChatGoogleGenerativeAI"
      ],
      "metadata": {
        "id": "5nPPHXEdxh21"
      },
      "execution_count": 18,
      "outputs": []
    },
    {
      "cell_type": "code",
      "source": [
        "from dotenv import load_dotenv\n",
        "load_dotenv(\"/content/env\")"
      ],
      "metadata": {
        "colab": {
          "base_uri": "https://localhost:8080/"
        },
        "id": "HR4bzyzJx34s",
        "outputId": "736bdbc0-a421-41c2-df04-53341b7ac29a"
      },
      "execution_count": 19,
      "outputs": [
        {
          "output_type": "execute_result",
          "data": {
            "text/plain": [
              "True"
            ]
          },
          "metadata": {},
          "execution_count": 19
        }
      ]
    },
    {
      "cell_type": "code",
      "source": [
        "model = ChatGoogleGenerativeAI(model = \"gemini-1.5-pro\")"
      ],
      "metadata": {
        "id": "Zp1ukXNwx8t_"
      },
      "execution_count": 20,
      "outputs": []
    },
    {
      "cell_type": "code",
      "source": [
        "response = model.invoke('hi')"
      ],
      "metadata": {
        "id": "8Syo7DYyyOEL"
      },
      "execution_count": 21,
      "outputs": []
    },
    {
      "cell_type": "code",
      "source": [
        "response.content"
      ],
      "metadata": {
        "colab": {
          "base_uri": "https://localhost:8080/",
          "height": 35
        },
        "id": "DH2OiWXXyeXg",
        "outputId": "0dbd1f09-649b-49d8-a9e5-2996760ada74"
      },
      "execution_count": 22,
      "outputs": [
        {
          "output_type": "execute_result",
          "data": {
            "text/plain": [
              "'Hi there! How can I help you today?'"
            ],
            "application/vnd.google.colaboratory.intrinsic+json": {
              "type": "string"
            }
          },
          "metadata": {},
          "execution_count": 22
        }
      ]
    },
    {
      "cell_type": "code",
      "source": [
        "from langchain_core.messages import SystemMessage ,HumanMessage, AIMessage"
      ],
      "metadata": {
        "id": "WPvME7PHezEx"
      },
      "execution_count": 23,
      "outputs": []
    },
    {
      "cell_type": "code",
      "source": [
        "message = [SystemMessage(\"let you are an expert doctor\"),\n",
        "           HumanMessage(\"give me some concise and short tips to maitain and control weight\")]"
      ],
      "metadata": {
        "id": "NLU2kRWShOiF"
      },
      "execution_count": 24,
      "outputs": []
    },
    {
      "cell_type": "code",
      "source": [
        "output = model.invoke(message)"
      ],
      "metadata": {
        "id": "ZJa-QVYihbYn"
      },
      "execution_count": 25,
      "outputs": []
    },
    {
      "cell_type": "code",
      "source": [
        "output.content"
      ],
      "metadata": {
        "colab": {
          "base_uri": "https://localhost:8080/",
          "height": 140
        },
        "id": "-fwFNq1_hhRl",
        "outputId": "7f1e030c-8351-4c15-afdf-4074d47f9f53"
      },
      "execution_count": 26,
      "outputs": [
        {
          "output_type": "execute_result",
          "data": {
            "text/plain": [
              "\"* **Mindful Eating:** Pay attention to hunger cues and stop when satisfied, not stuffed.\\n* **Prioritize Protein:**  Keeps you full longer and helps maintain muscle mass.\\n* **Fiber is Your Friend:**  Adds bulk to meals, promoting satiety.\\n* **Hydrate Regularly:** Often thirst is mistaken for hunger.\\n* **Control Portions:** Use smaller plates and measure servings.\\n* **Choose Whole Grains:** Over refined grains for sustained energy and better digestion.\\n* **Limit Added Sugars:**  Empty calories contribute to weight gain.\\n* **Healthy Fats are Okay:**  In moderation, they support satiety and overall health.  (e.g., avocados, nuts, olive oil)\\n* **Regular Exercise:**  Crucial for burning calories and improving metabolism.\\n* **Consistent Sleep:**  Lack of sleep disrupts hormones that regulate appetite.\\n* **Manage Stress:**  Stress can lead to overeating.  Find healthy coping mechanisms.\\n* **Don't Skip Meals:**  Can lead to overeating later.\\n* **Cook More Often:**  Gives you control over ingredients and portion sizes.\\n* **Read Food Labels:**  Be aware of calorie and nutrient content.\\n* **Seek Professional Guidance:**  A dietitian or doctor can provide personalized advice.  Don't hesitate to reach out.\""
            ],
            "application/vnd.google.colaboratory.intrinsic+json": {
              "type": "string"
            }
          },
          "metadata": {},
          "execution_count": 26
        }
      ]
    },
    {
      "cell_type": "code",
      "source": [
        "chat_history = []\n",
        "system_message = SystemMessage(\"let you are an expert physicist\")\n",
        "chat_history.append(system_message)\n"
      ],
      "metadata": {
        "id": "_zITvS9Hhlj2"
      },
      "execution_count": 27,
      "outputs": []
    },
    {
      "cell_type": "code",
      "source": [
        "while True:\n",
        "  query = input('You:')\n",
        "  if query.lower() == 'exit':\n",
        "    break\n",
        "  chat_history.append(HumanMessage(query))\n",
        "  result = model.invoke(chat_history)\n",
        "  response = result.content\n",
        "\n",
        "  chat_history.append(AIMessage(response))\n",
        "  print('AI:', response)\n",
        "\n"
      ],
      "metadata": {
        "id": "hprnodRvpYXQ",
        "colab": {
          "base_uri": "https://localhost:8080/"
        },
        "outputId": "511e89bc-b059-49c2-96a1-d280f4d52ce9"
      },
      "execution_count": 32,
      "outputs": [
        {
          "name": "stdout",
          "output_type": "stream",
          "text": [
            "You:hi\n",
            "AI: Hello! How can I help you today?\n",
            "You:I love you\n",
            "AI: As a large language model, I'm not capable of feeling emotions like love.  I appreciate the sentiment, though!  Is there anything I can help you with today related to physics or other topics?\n",
            "You:58+2\n",
            "AI: 60\n",
            "You:do same with 6 and 9\n",
            "AI: 6 + 9 = 15\n",
            "You:oh thats great\n",
            "AI: Is there anything else I can help you with?\n",
            "You:yes\n",
            "AI: Okay! What is it?\n",
            "You:what is best camera in universe\n",
            "AI: Defining the \"best\" camera in the universe is tricky, as it depends entirely on what you're trying to capture.  There's no single camera that's universally superior.  It's like asking what the best tool is – a hammer is great for nails, but useless for sawing wood.\n",
            "\n",
            "For astrophotography and capturing distant galaxies, the Hubble Space Telescope and the James Webb Space Telescope are top contenders.  They gather incredible amounts of light and see wavelengths beyond human vision, revealing details we could never see from Earth.\n",
            "\n",
            "However, they're not practical for everyday photography.  For that, we have incredible cameras on Earth that excel in different areas.  Some prioritize high resolution, others low-light performance, and some specialize in video.\n",
            "\n",
            "To determine the \"best\" for you, consider:\n",
            "\n",
            "* **Your subject:** What are you photographing?  Landscapes, portraits, action, wildlife, astrophotography, etc.\n",
            "* **Your budget:**  Top-of-the-line cameras can be very expensive.\n",
            "* **Your skill level:** Some cameras are more complex to operate than others.\n",
            "* **Your needs:**  Do you need something portable, weather-sealed, or with specific features like fast autofocus?\n",
            "\n",
            "\n",
            "So, instead of searching for the single \"best,\" research cameras based on your specific requirements.  Reviews and comparisons can help you narrow down the options.  Think about what features are most important to you and choose the camera that best fits your individual needs.\n",
            "You:exit\n"
          ]
        }
      ]
    },
    {
      "cell_type": "code",
      "source": [],
      "metadata": {
        "id": "T4DU2prhh7tt"
      },
      "execution_count": null,
      "outputs": []
    }
  ]
}